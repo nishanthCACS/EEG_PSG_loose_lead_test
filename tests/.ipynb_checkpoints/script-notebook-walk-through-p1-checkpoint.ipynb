{
 "cells": [
  {
   "cell_type": "markdown",
   "id": "089237c0",
   "metadata": {},
   "source": [
    "# This Notebook provides the walk through each step for single sleep-EEG (\".edf\") file to present some details about possible the package in details - Part1."
   ]
  },
  {
   "cell_type": "markdown",
   "id": "6bfacef2",
   "metadata": {},
   "source": [
    "## First introduce the loading the package step to run in the script format\n",
    "Since you are using the script to run the file, please load the latest .whl file \n",
    "located in the \"EEG_PSG_loose_lead_test/dist/sleep_EEG_loose_lead_detect-0.0-py3-none-any.whl\"\n",
    "\n",
    "Once the package is dowloaded, then change the directory via the command in cmd-prompt\n",
    "\n",
    "cd .../EEG_PSG_loose_lead_test/dist/\n",
    "\n",
    "Then install the packge via the pip command via the command in cmd-prompt,\n",
    "\n",
    "pip install sleep_EEG_loose_lead_detect-0.0-py3-none-any.whl"
   ]
  },
  {
   "cell_type": "code",
   "execution_count": null,
   "id": "d620b941",
   "metadata": {},
   "outputs": [],
   "source": [
    "import os\n",
    "import sys\n",
    "import logging\n",
    "\n",
    "import numpy as np\n",
    "import pandas as pd\n",
    "import pickle\n",
    "\n",
    "\n",
    "from copy import deepcopy\n",
    "from collections import Counter\n",
    "\n",
    "import sleep_EEG_loose_lead_detect as sleep_EEG_loose_lead_detect\n",
    "# --------------------------------------------------------------------------\n",
    "# load package functions\n",
    "# assign the working directory of the package\n",
    "# --------------------------------------------------------------------------\n",
    "from sleep_EEG_loose_lead_detect.directory_utils import EEG_sleep_dir\n",
    "\n",
    "from sleep_EEG_loose_lead_detect.optional_parameters import parameter_assignment"
   ]
  },
  {
   "cell_type": "markdown",
   "id": "12466629",
   "metadata": {},
   "source": [
    "## Intialisation the logger command to get the feed-back"
   ]
  },
  {
   "cell_type": "code",
   "execution_count": null,
   "id": "39c1f5f9",
   "metadata": {},
   "outputs": [],
   "source": [
    "logging.basicConfig(level=logging.INFO)\n",
    "\n",
    "logger = logging.getLogger(\"sleep_loose_lead\")\n",
    "while logger.handlers:\n",
    "      logger.handlers.pop()\n",
    "c_handler = logging.StreamHandler()\n",
    "# link handler to logger\n",
    "logger.addHandler(c_handler)\n",
    "logger.setLevel(logging.INFO)\n",
    "logger.propagate = False\n",
    "\n"
   ]
  },
  {
   "cell_type": "markdown",
   "id": "f013a229",
   "metadata": {},
   "source": [
    "## Lets call the first function and check the intial package access succeed"
   ]
  },
  {
   "cell_type": "markdown",
   "id": "67c16db8",
   "metadata": {},
   "source": [
    "Lets intialise the parameter_assignment this is used for the feeding the inputs to the package."
   ]
  },
  {
   "cell_type": "code",
   "execution_count": null,
   "id": "0696981f",
   "metadata": {},
   "outputs": [],
   "source": [
    "'''\n",
    "getting user input and call loose-lead detection\n",
    "'''\n",
    "opt_paramters = parameter_assignment()"
   ]
  },
  {
   "cell_type": "markdown",
   "id": "b4202baa",
   "metadata": {},
   "source": [
    "Since we are feeding the i/ps via the script lets \n",
    "assign the directories via the ''EEG_sleep_dir'' object.\n",
    "\n",
    "loading_dir_pre.in_loc: The location of the raw-EEG (.edf) files.\n",
    "loading_dir_pre.out_loc: The location of pacage o/p files.\n"
   ]
  },
  {
   "cell_type": "code",
   "execution_count": null,
   "id": "53dfc8ec",
   "metadata": {},
   "outputs": [],
   "source": [
    "'''\n",
    "direct_run makes skip the user inputs\n",
    "'''\n",
    "loading_dir_pre =EEG_sleep_dir(splidle_inc=False)\n",
    "# --------------------------------------------------------------------------\n",
    "#  first assign the i/p and o/p directories\n",
    "# --------------------------------------------------------------------------\n",
    "loading_dir_pre.in_loc = '/Users/anandanadarajn/Documents/.../results_pickles/check_loose_lead/'\n",
    "loading_dir_pre.out_loc ='/Users/anandanadarajn/Documents/.../results_pickles/check_loose_lead/'\n"
   ]
  },
  {
   "cell_type": "markdown",
   "id": "2ced5fea",
   "metadata": {},
   "source": [
    " This \"keep_signature_dic\" holds o/p possiblilities\n"
   ]
  },
  {
   "cell_type": "code",
   "execution_count": null,
   "id": "5ec8ae21",
   "metadata": {},
   "outputs": [],
   "source": [
    "loading_dir_pre.keep_signature_dic ={}\n"
   ]
  },
  {
   "cell_type": "markdown",
   "id": "11e49743",
   "metadata": {},
   "source": [
    "Such that if the user want to save the Spectrogram (\"MT-spectrum\") as pickle then \n",
    "assign,"
   ]
  },
  {
   "cell_type": "code",
   "execution_count": null,
   "id": "fa76ea63",
   "metadata": {},
   "outputs": [],
   "source": [
    "loading_dir_pre.keep_signature_dic['MT_spec']=True\n"
   ]
  },
  {
   "cell_type": "markdown",
   "id": "2ac98a91",
   "metadata": {},
   "source": [
    "If we are running the batch we don't need the  Spectrogram (\"MT-spectrum\") then we \n",
    "can avoid saving that via the "
   ]
  },
  {
   "cell_type": "code",
   "execution_count": null,
   "id": "5d13e0f9",
   "metadata": {},
   "outputs": [],
   "source": [
    "loading_dir_pre.keep_signature_dic['MT_spec']=False"
   ]
  },
  {
   "cell_type": "markdown",
   "id": "747d4117",
   "metadata": {},
   "source": [
    "Since this is the first run inorder to check the possible o/ps with the package\n",
    "lets assign all the directories as \"True\". \n"
   ]
  },
  {
   "cell_type": "code",
   "execution_count": null,
   "id": "c57f4cfd",
   "metadata": {},
   "outputs": [],
   "source": [
    "loading_dir_pre.keep_signature_dic['dic']=True\n",
    "loading_dir_pre.keep_signature_dic['evtxt']=True\n",
    "loading_dir_pre.keep_signature_dic['bad_epochs']=True\n",
    "loading_dir_pre.keep_signature_dic['out_loc_outlier']=True\n",
    "loading_dir_pre.keep_signature_dic['sleep_anot']=True\n",
    "loading_dir_pre.keep_signature_dic['MT_spec']=True\n",
    "loading_dir_pre.keep_signature_dic['annota_NREM_REM']=True\n",
    "loading_dir_pre.keep_signature_dic['splidle_inc']=True\n",
    "loading_dir_pre.keep_signature_dic['tex_files']=True\n",
    "\n",
    "loading_dir_pre.save_spindle_loc = True"
   ]
  },
  {
   "cell_type": "code",
   "execution_count": null,
   "id": "1c6dcf27",
   "metadata": {},
   "outputs": [],
   "source": [
    "\n",
    "\n",
    "\n",
    "\n"
   ]
  },
  {
   "cell_type": "code",
   "execution_count": null,
   "id": "c0109a55",
   "metadata": {},
   "outputs": [],
   "source": [
    "\n",
    "# --------------------------------------------------------------------------\n",
    "# re assign the loading_dir_pre object\n",
    "# --------------------------------------------------------------------------\n",
    "loading_dir_pre.assign_directories()\n",
    "opt_paramters.loading_dir_pre = loading_dir_pre\n",
    "\n",
    "# --------------------------------------------------------------------------\n",
    "#  to run the single edf file\n",
    "# --------------------------------------------------------------------------\n",
    "f='19-0972_F_19.9_1_di_al'\n",
    "opt_paramters.tag='_def'\n",
    "# --------------------------------------------------------------------------\n",
    "# Feed NREM and REM separately\n",
    "# --------------------------------------------------------------------------\n",
    "opt_paramters.sep = False\n",
    "# for f in loading_dir_pre.edf_files:\n"
   ]
  }
 ],
 "metadata": {
  "kernelspec": {
   "display_name": "Python 3 (ipykernel)",
   "language": "python",
   "name": "python3"
  },
  "language_info": {
   "codemirror_mode": {
    "name": "ipython",
    "version": 3
   },
   "file_extension": ".py",
   "mimetype": "text/x-python",
   "name": "python",
   "nbconvert_exporter": "python",
   "pygments_lexer": "ipython3",
   "version": "3.9.7"
  }
 },
 "nbformat": 4,
 "nbformat_minor": 5
}
