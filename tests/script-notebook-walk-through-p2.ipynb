{
 "cells": [
  {
   "cell_type": "markdown",
   "id": "9a767eb8",
   "metadata": {},
   "source": [
    "# This Notebook provides the walk through each step for single sleep-EEG (\".edf\") file to present some details about possible the package in details - Part2."
   ]
  },
  {
   "cell_type": "markdown",
   "id": "54169d9f",
   "metadata": {},
   "source": [
    "The whole notebooks parts should be run together inorder to explain the first each note-books are provided seperately.\n",
    "This will help the user to identify the any-issues while first time running the package.\n",
    "\n",
    "However these parts include the first part and wanted functions in the first block.\n",
    "So the user can run the first block as whole to finish the previous parts and check the next stages.\n",
    "\n",
    "If the user want to run the whole script together pleace check the last-note-book."
   ]
  },
  {
   "cell_type": "markdown",
   "id": "ca6d678d",
   "metadata": {},
   "source": [
    "## Upto part-1 and needed modules\n",
    "\n",
    "Since you are using the script to run the file, please load the latest .whl file \n",
    "located in the \"EEG_PSG_loose_lead_test/dist/sleep_EEG_loose_lead_detect-0.0-py3-none-any.whl\"\n",
    "\n",
    "Once the package is dowloaded, then change the directory via the command in cmd-prompt\n",
    "\n",
    "cd .../EEG_PSG_loose_lead_test/dist/\n",
    "\n",
    "Then install the packge via the pip command via the command in cmd-prompt,\n",
    "\n",
    "pip install sleep_EEG_loose_lead_detect-0.0-py3-none-any.whl"
   ]
  },
  {
   "cell_type": "code",
   "execution_count": null,
   "id": "ac903c94",
   "metadata": {},
   "outputs": [],
   "source": [
    "import os\n",
    "import sys\n",
    "import logging\n",
    "\n",
    "import numpy as np\n",
    "import pandas as pd\n",
    "import pickle\n",
    "\n",
    "\n",
    "from copy import deepcopy\n",
    "from collections import Counter\n",
    "# from multiprocessing import Pool#, TimeoutError\n",
    "\n",
    "import sleep_EEG_loose_lead_detect as sleep_EEG_loose_lead_detect\n",
    "# --------------------------------------------------------------------------\n",
    "# load package functions\n",
    "# assign the working directory of the package\n",
    "# --------------------------------------------------------------------------\n",
    "from sleep_EEG_loose_lead_detect.directory_utils import EEG_sleep_dir\n",
    "\n",
    "from sleep_EEG_loose_lead_detect.optional_parameters import parameter_assignment\n",
    "\n",
    "#checking only one get_root_channels function whether the loading suceeds\n",
    "# # here non-normlaised EEG is obtained in the preproceeing step in time domain\n",
    "from sleep_EEG_loose_lead_detect.preprocessing.load_EDF_dataset_events import load_root_dataset\n",
    "\n",
    "from sleep_EEG_loose_lead_detect.preprocessing.find_bad_epochs import markBadEpochs\n",
    "from sleep_EEG_loose_lead_detect.preprocessing.segment_filter_EEG import segment_EEG\n",
    "\n",
    "from sleep_EEG_loose_lead_detect.loose_lead_events.events_to_txt import preprocess_events_to_txt\n",
    "\n",
    "logging.basicConfig(level=logging.INFO)\n",
    "\n",
    "logger = logging.getLogger(\"sleep_loose_lead\")\n",
    "while logger.handlers:\n",
    "      logger.handlers.pop()\n",
    "c_handler = logging.StreamHandler()\n",
    "# link handler to logger\n",
    "logger.addHandler(c_handler)\n",
    "logger.setLevel(logging.INFO)\n",
    "logger.propagate = False\n",
    "\n",
    "\n",
    "\n",
    "'''\n",
    "direct_run makes skip the user inputs\n",
    "'''\n",
    "loading_dir_pre =EEG_sleep_dir(splidle_inc=False)\n",
    "# --------------------------------------------------------------------------\n",
    "#  first assign the i/p and o/p directories\n",
    "# --------------------------------------------------------------------------\n",
    "loading_dir_pre.in_loc = '/Users/anandanadarajn/Documents/.../results_pickles/check_loose_lead/'\n",
    "loading_dir_pre.out_loc ='/Users/anandanadarajn/Documents/.../results_pickles/check_loose_lead/'\n",
    "\n",
    "loading_dir_pre.keep_signature_dic ={}\n",
    "loading_dir_pre.keep_signature_dic['dic']=True\n",
    "loading_dir_pre.keep_signature_dic['evtxt']=True\n",
    "loading_dir_pre.keep_signature_dic['bad_epochs']=True\n",
    "loading_dir_pre.keep_signature_dic['out_loc_outlier']=True\n",
    "loading_dir_pre.keep_signature_dic['sleep_anot']=True\n",
    "loading_dir_pre.keep_signature_dic['MT_spec']=True\n",
    "loading_dir_pre.keep_signature_dic['annota_NREM_REM']=True\n",
    "loading_dir_pre.keep_signature_dic['splidle_inc']=True\n",
    "loading_dir_pre.keep_signature_dic['tex_files']=True\n",
    "\n",
    "loading_dir_pre.save_spindle_loc = True\n",
    "\n",
    "# --------------------------------------------------------------------------\n",
    "# re assign the loading_dir_pre object\n",
    "# --------------------------------------------------------------------------\n",
    "loading_dir_pre.assign_directories()\n",
    "f='edf_name'\n",
    "\n",
    "'''\n",
    "getting user input and call loose-lead detection\n",
    "'''\n",
    "opt_paramters = parameter_assignment()\n",
    "opt_paramters.loading_dir_pre = loading_dir_pre\n",
    "\n",
    "opt_paramters.sep = False\n",
    "\n",
    "opt_paramters.tag='_def'"
   ]
  },
  {
   "cell_type": "markdown",
   "id": "da5d72b5",
   "metadata": {},
   "source": [
    "Then load the intial parameters and assign the edf name"
   ]
  },
  {
   "cell_type": "code",
   "execution_count": null,
   "id": "333f9684",
   "metadata": {},
   "outputs": [],
   "source": [
    "pred_slow_waves = opt_paramters.pred_slow_waves\n",
    "pred_spindles = opt_paramters.pred_spindles \n",
    "\n",
    "T = opt_paramters.T\n",
    "amplitude_high_same_all_age = opt_paramters.amplitude_high_same_all_age\n",
    "avoid_spindle_loc = opt_paramters.avoid_spindle_loc\n",
    "verbose  = opt_paramters.verbose\n",
    "\n",
    "\n",
    "# --------------------------------------------------------------------------\n",
    "# assigning the directories\n",
    "# --------------------------------------------------------------------------\n",
    "in_loc = loading_dir_pre.in_loc\n",
    "# save_converted_index_loc = loading_dir_pre.save_converted_index_loc\n",
    "# out_loc_outlier = loading_dir_pre.out_loc_outlier\n",
    "in_bad_events = loading_dir_pre.bad_events_file_path\n",
    "save_spindle_loc = loading_dir_pre.save_spindle_loc\n",
    "\n",
    "\n",
    "# --------------------------------------------------------------------------\n",
    "#  if the file not ends with edf add edf extention\n",
    "# --------------------------------------------------------------------------\n",
    "\n",
    "if in_name_temp.split('.')[-1]!='edf':\n",
    "    in_edf = in_loc + in_name_temp + \".edf\"\n",
    "else:\n",
    "    in_edf = in_loc + in_name_temp \n",
    "    in_name_temp = '.'.join(in_name_temp.split('.')[0:-1])\n",
    "logger.warning('*** filename: %s', in_edf)\n",
    "\n",
    "if len(opt_paramters.tag)>0:\n",
    "    in_name_temp= in_name_temp+opt_paramters.tag"
   ]
  },
  {
   "cell_type": "markdown",
   "id": "f764d2b9",
   "metadata": {},
   "source": [
    "Get the parameters for the loading the raw-EEG data.\n",
    "\n",
    "amplitude_thres = 2000 is default \n",
    "500 is checked in the batch_run_server_example_2.py\n"
   ]
  },
  {
   "cell_type": "code",
   "execution_count": null,
   "id": "7c77d3c1",
   "metadata": {},
   "outputs": [],
   "source": [
    "epoch_length, line_freq, bandpass_freq, normal_only, notch_freq_essential_checker, amplitude_thres = opt_paramters.preprocess_par()\n",
    "\n",
    "# --------------------------------------------------------------------------\n",
    "# developments optional to user\n",
    "# --------------------------------------------------------------------------\n",
    "save_events_origin = opt_paramters.save_events_origin\n",
    "sleep_stage_preprocess_origin = opt_paramters.sleep_stage_preprocess_origin"
   ]
  },
  {
   "cell_type": "markdown",
   "id": "e30826aa",
   "metadata": {},
   "source": [
    "## Load the EEG raw data and events\n",
    "\n",
    "Extract the epoch annotations (events) come along with the bigger edf. And only select the wanted channels' signal from the ``.edf''."
   ]
  },
  {
   "cell_type": "code",
   "execution_count": null,
   "id": "681de838",
   "metadata": {},
   "outputs": [],
   "source": [
    "os.chdir('/')#to make sure appending paths\n",
    "EEG_root, sleep_stages_or, EEG_channels, Fs, start_time_idx,  sel_index_sl_st, whole_annotations, ev_or = load_root_dataset(in_edf, epoch_length)\n",
    "\n",
    "# --------------------------------------------------------------------------\n",
    "# save the events for checking purpose\n",
    "# --------------------------------------------------------------------------\n",
    "if save_events_origin:\n",
    "    np.save(loading_dir_pre.out_loc_NREM_REM+ in_name_temp + \"_sel_index_sl_st\",sel_index_sl_st)\n",
    "    np.save(loading_dir_pre.out_loc_NREM_REM+ in_name_temp + \"_ev_or\",ev_or)\n"
   ]
  },
  {
   "cell_type": "markdown",
   "id": "eb8ff419",
   "metadata": {},
   "source": [
    "## Mark the bad epoches (extract the annotated events)\n",
    "Some times edfs have rich information other than the sleep-stages\n",
    "like patients out for bathroom break, restroom, etc. The epoches fell into the bathroom break is just noise\n",
    "so these kind of noise present data supposed to be removed from the sleep-stages annotation\n",
    "    \n",
    "However each technician use their own terminolgy. \n",
    "we haven't remove all the bad-events here, just some known events that is surely known as bad-events\n",
    "we have provided the bad events in the /docs/bad_events_bathroom.txt files that can be updatable\n",
    "    \n",
    "some potential events are purposefully leaved like movenments, arousal etc. Since these information can be later \n",
    "used to find the subjects disease based studies etc."
   ]
  },
  {
   "cell_type": "code",
   "execution_count": null,
   "id": "7aadd154",
   "metadata": {},
   "outputs": [],
   "source": [
    "\n",
    "bad_epochs = markBadEpochs(in_edf, in_bad_events, epoch_sec=epoch_length)\n",
    "if loading_dir_pre.keep_signature_dic['bad_epochs']:\n",
    "    np.save(loading_dir_pre.bad_epochs_folder+ in_name_temp + \"_bad_epochs\",bad_epochs)"
   ]
  },
  {
   "cell_type": "markdown",
   "id": "69d7ccb2",
   "metadata": {},
   "source": [
    "## Segment the stages into epoches\n",
    "This is mainly focused on preprocess the EEG signal in the time domain and detect the anomalies (overly high amplitude signals) presented in the time domain.\n",
    "In this part return the splited epochs signals. \n",
    "Filtered signals (the filterize remove powerline noise, etc.)"
   ]
  },
  {
   "cell_type": "code",
   "execution_count": null,
   "id": "1eb63f69",
   "metadata": {},
   "outputs": [],
   "source": [
    "#  make deep copy \n",
    "EEG_root_copy=deepcopy(EEG_root)\n",
    "if avoid_spindle_loc:\n",
    "    sleep_stages_origin =  deepcopy(sleep_stages_or)\n",
    "\n",
    "\n",
    "sleep_stages=  deepcopy(sleep_stages_or)\n",
    "# --------------------------------------------------------------------------\n",
    "# Segment EEG into 30sec epochs, apply notch & band filters, mark bad epochs and normalization\n",
    "# this is preprocessing the EEG signal in time domain and return the preprocessed signal in time domain\n",
    "# --------------------------------------------------------------------------\n",
    "\n",
    "# --------------------------------------------------------------------------\n",
    "# this will force the events with the channels information\n",
    "#   channel_specific_preprocess=True \n",
    "# if not channel_specific_preprocess just return the epoch status without channel specific information\n",
    "# like nan value, high/lower amplitude etc.\n",
    "# --------------------------------------------------------------------------\n",
    "channel_specific_preprocess = opt_paramters.channel_specific_preprocess\n",
    "# --------------------------------------------------------------------------\n",
    "# EEG_channels extracted from the load_root_dataset\n",
    "# such that filaly the default channels will be endup in\n",
    "# ch_names = ['F3', 'F4', 'C3', 'C4', 'O1', 'O2']\n",
    "# --------------------------------------------------------------------------\n",
    "ch_names = EEG_channels    \n",
    "\n",
    "# --------------------------------------------------------------------------\n",
    "# in the fuiltertaion process the \n",
    "# EEG_root_copy have higher chance of filetisation\n",
    "#  so keep them in a seperate deep copy is prefered\n",
    "# \n",
    "#  to feed the filterd EEG through the MT-make sure assign this as True\n",
    "# basically the epoches points to the EEG_root_copies location\n",
    "# --------------------------------------------------------------------------\n",
    "filtered_EEG_MT=True\n",
    "epochs, EEG_root_copy, sleep_stages, epoch_start_idx_o, epoch_status, q1,q2,q3, notch_filter_skipped = segment_EEG(EEG_root_copy, \n",
    "                                                                                sleep_stages, \n",
    "                                                                                epoch_length, \n",
    "                                                                                Fs, start_time_idx, \n",
    "                                                                                notch_freq=line_freq, \n",
    "                                                                                bandpass_freq=bandpass_freq, \n",
    "                                                                                amplitude_thres=amplitude_thres, \n",
    "                                                                                channel_specific_preprocess=channel_specific_preprocess,\n",
    "                                                                                ch_names=ch_names,\n",
    "                                                                                bad_epochs=bad_epochs,notch_freq_essential_checker=notch_freq_essential_checker,\n",
    "                                                                                return_filtered_EEG=True,\n",
    "                                                                                verbose=verbose)"
   ]
  },
  {
   "cell_type": "markdown",
   "id": "1022aa72",
   "metadata": {},
   "source": [
    "## Save the preprocess outcomes of epochs\n",
    "\n",
    "Inorder to save the preprocess outcomes."
   ]
  },
  {
   "cell_type": "code",
   "execution_count": null,
   "id": "1eabd8ec",
   "metadata": {},
   "outputs": [],
   "source": [
    "preprocess_events_to_txt(in_name_temp+'_pre_process.txt',loading_dir_pre.out_loc_txt, epoch_status,  preprocess_txt_only_detected_bad=True)"
   ]
  },
  {
   "cell_type": "markdown",
   "id": "40f9a050",
   "metadata": {},
   "source": [
    "## temp \n",
    "\n",
    "The temp dictionary is an option to save the intermediate extracted information, this will avoid re-computation.\n",
    "When we need the eeg's function retrieval outcomes and information such as sampling frequency (Fs),  quantiles (Q1,Q2, and Q3), etc."
   ]
  },
  {
   "cell_type": "code",
   "execution_count": null,
   "id": "32adbaeb",
   "metadata": {},
   "outputs": [],
   "source": [
    "temp= {}\n",
    "temp['Fs']=Fs\n",
    "\n",
    "temp['q1']=np.array(q1)\n",
    "temp['q2']=np.array(q2)\n",
    "temp['q3']=np.array(q3)\n",
    "\n",
    "temp['notch_filter_skipped']=notch_filter_skipped"
   ]
  },
  {
   "cell_type": "markdown",
   "id": "7351b8d7",
   "metadata": {},
   "source": [
    "## Extracted epochs length check\n",
    "\n",
    "This portion check the length of the extractec epochs, and check the number of useful (normal/ good_ids) time domain EEG signal for further processing. Here if the length of the good-ids are less than 300 epochs also that also saved in the ``temp'' dictionary."
   ]
  },
  {
   "cell_type": "code",
   "execution_count": null,
   "id": "b396cf4a",
   "metadata": {},
   "outputs": [],
   "source": [
    "temp['empty_EEG_segs']=False\n",
    "if epochs.shape[0] <= 0:\n",
    "    temp['empty_EEG_segs']=True\n",
    "    raise ValueError('Empty EEG segments')\n",
    "\n",
    "if normal_only:\n",
    "    good_ids = np.where(epoch_status=='normal')[0]\n",
    "    sel_id_name='good_ids'\n",
    "    if len(good_ids)<=300:\n",
    "        temp['less_300']=True\n",
    "    else:\n",
    "        temp['less_300']=False\n",
    "else:\n",
    "    raise Exception(\"need to modify the epoch status to selecting status, sin cethe outlier detection is build based only on normal epoch in mind\")"
   ]
  }
 ],
 "metadata": {
  "kernelspec": {
   "display_name": "Python 3 (ipykernel)",
   "language": "python",
   "name": "python3"
  },
  "language_info": {
   "codemirror_mode": {
    "name": "ipython",
    "version": 3
   },
   "file_extension": ".py",
   "mimetype": "text/x-python",
   "name": "python",
   "nbconvert_exporter": "python",
   "pygments_lexer": "ipython3",
   "version": "3.9.7"
  }
 },
 "nbformat": 4,
 "nbformat_minor": 5
}
