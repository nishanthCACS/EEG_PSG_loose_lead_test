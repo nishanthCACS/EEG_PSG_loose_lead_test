{
 "cells": [
  {
   "cell_type": "markdown",
   "id": "9a767eb8",
   "metadata": {},
   "source": [
    "# Introducing parts based Note-book tutorial\n",
    "\n",
    "The whole notebooks parts should be run together inorder to explain the first each note-books are provided seperately.\n",
    "This will help the user to identify the any-issues while first time running the package.\n",
    "\n",
    "If the user want to run the whole script together pleace check the last-note-book."
   ]
  },
  {
   "cell_type": "markdown",
   "id": "0c82d116",
   "metadata": {},
   "source": [
    "# This Notebook provides the walk through each step for single sleep-EEG (\".edf\") file to present some details about possible the package in details - Part1."
   ]
  },
  {
   "cell_type": "markdown",
   "id": "54169d9f",
   "metadata": {},
   "source": [
    "## First introduce the loading the package step to run in the script format\n",
    "Since you are using the script to run the file, please load the latest .whl file \n",
    "located in the \"EEG_PSG_loose_lead_test/dist/sleep_EEG_loose_lead_detect-0.0-py3-none-any.whl\"\n",
    "\n",
    "Once the package is dowloaded, then change the directory via the command in cmd-prompt\n",
    "\n",
    "cd .../EEG_PSG_loose_lead_test/dist/\n",
    "\n",
    "Then install the packge via the pip command via the command in cmd-prompt,\n",
    "\n",
    "pip install sleep_EEG_loose_lead_detect-0.0-py3-none-any.whl"
   ]
  },
  {
   "cell_type": "code",
   "execution_count": null,
   "id": "333f9684",
   "metadata": {},
   "outputs": [],
   "source": [
    "import os\n",
    "import sys\n",
    "import logging\n",
    "\n",
    "import numpy as np\n",
    "import pandas as pd\n",
    "import pickle\n",
    "\n",
    "\n",
    "from copy import deepcopy\n",
    "from collections import Counter\n",
    "\n",
    "import sleep_EEG_loose_lead_detect as sleep_EEG_loose_lead_detect\n",
    "# --------------------------------------------------------------------------\n",
    "# load package functions\n",
    "# assign the working directory of the package\n",
    "# --------------------------------------------------------------------------\n",
    "from sleep_EEG_loose_lead_detect.directory_utils import EEG_sleep_dir\n",
    "\n",
    "from sleep_EEG_loose_lead_detect.optional_parameters import parameter_assignment"
   ]
  },
  {
   "cell_type": "markdown",
   "id": "f764d2b9",
   "metadata": {},
   "source": [
    "## Intialisation the logger command to get the feed-back"
   ]
  },
  {
   "cell_type": "code",
   "execution_count": null,
   "id": "7c77d3c1",
   "metadata": {},
   "outputs": [],
   "source": [
    "logging.basicConfig(level=logging.INFO)\n",
    "\n",
    "logger = logging.getLogger(\"sleep_loose_lead\")\n",
    "while logger.handlers:\n",
    "      logger.handlers.pop()\n",
    "c_handler = logging.StreamHandler()\n",
    "# link handler to logger\n",
    "logger.addHandler(c_handler)\n",
    "logger.setLevel(logging.INFO)\n",
    "logger.propagate = False\n",
    "\n"
   ]
  },
  {
   "cell_type": "markdown",
   "id": "c3f8eaf3",
   "metadata": {},
   "source": [
    "## Lets call the first function and check the intial package access succeed"
   ]
  },
  {
   "cell_type": "markdown",
   "id": "9b84efd8",
   "metadata": {},
   "source": [
    "Lets intialise the parameter_assignment this is used for the feeding the inputs to the package."
   ]
  },
  {
   "cell_type": "code",
   "execution_count": null,
   "id": "b3cf1584",
   "metadata": {},
   "outputs": [],
   "source": [
    "'''\n",
    "getting user input and call loose-lead detection\n",
    "'''\n",
    "opt_paramters = parameter_assignment()"
   ]
  },
  {
   "cell_type": "markdown",
   "id": "f5954b37",
   "metadata": {},
   "source": [
    "Since we are feeding the i/ps via the script lets \n",
    "assign the directories via the ''EEG_sleep_dir'' object.\n",
    "\n",
    "loading_dir_pre.in_loc: The location of the raw-EEG (.edf) files.\n",
    "loading_dir_pre.out_loc: The location of pacage o/p files.\n"
   ]
  },
  {
   "cell_type": "code",
   "execution_count": null,
   "id": "54ffaffd",
   "metadata": {},
   "outputs": [],
   "source": [
    "'''\n",
    "direct_run makes skip the user inputs\n",
    "'''\n",
    "loading_dir_pre =EEG_sleep_dir(splidle_inc=False)\n",
    "# --------------------------------------------------------------------------\n",
    "#  first assign the i/p and o/p directories\n",
    "# --------------------------------------------------------------------------\n",
    "loading_dir_pre.in_loc = '/Users/anandanadarajn/Documents/.../results_pickles/check_loose_lead/'\n",
    "loading_dir_pre.out_loc ='/Users/anandanadarajn/Documents/.../results_pickles/check_loose_lead/'\n"
   ]
  },
  {
   "cell_type": "markdown",
   "id": "f3009648",
   "metadata": {},
   "source": [
    " This \"keep_signature_dic\" holds o/p possiblilities\n"
   ]
  },
  {
   "cell_type": "code",
   "execution_count": null,
   "id": "97463a3b",
   "metadata": {},
   "outputs": [],
   "source": [
    "loading_dir_pre.keep_signature_dic ={}\n"
   ]
  },
  {
   "cell_type": "markdown",
   "id": "081ad283",
   "metadata": {},
   "source": [
    "Such that if the user want to save the Spectrogram (\"MT-spectrum\") as pickle then \n",
    "assign,"
   ]
  },
  {
   "cell_type": "code",
   "execution_count": null,
   "id": "a177e10a",
   "metadata": {},
   "outputs": [],
   "source": [
    "loading_dir_pre.keep_signature_dic['MT_spec']=True\n"
   ]
  },
  {
   "cell_type": "markdown",
   "id": "06da2caa",
   "metadata": {},
   "source": [
    "If we are running the batch we don't need the  Spectrogram (\"MT-spectrum\") then we \n",
    "can avoid saving that via the "
   ]
  },
  {
   "cell_type": "code",
   "execution_count": null,
   "id": "691c4c80",
   "metadata": {},
   "outputs": [],
   "source": [
    "loading_dir_pre.keep_signature_dic['MT_spec']=False"
   ]
  },
  {
   "cell_type": "markdown",
   "id": "65a1c42f",
   "metadata": {},
   "source": [
    "Since this is the first run inorder to check the possible o/ps with the package\n",
    "lets assign all the directories as \"True\". \n"
   ]
  },
  {
   "cell_type": "code",
   "execution_count": null,
   "id": "0931cd44",
   "metadata": {},
   "outputs": [],
   "source": [
    "loading_dir_pre.keep_signature_dic['dic']=True\n",
    "loading_dir_pre.keep_signature_dic['evtxt']=True\n",
    "loading_dir_pre.keep_signature_dic['bad_epochs']=True\n",
    "loading_dir_pre.keep_signature_dic['out_loc_outlier']=True\n",
    "loading_dir_pre.keep_signature_dic['sleep_anot']=True\n",
    "loading_dir_pre.keep_signature_dic['MT_spec']=True\n",
    "loading_dir_pre.keep_signature_dic['annota_NREM_REM']=True\n",
    "loading_dir_pre.keep_signature_dic['splidle_inc']=True\n",
    "loading_dir_pre.keep_signature_dic['tex_files']=True\n",
    "\n",
    "loading_dir_pre.save_spindle_loc = True"
   ]
  },
  {
   "cell_type": "markdown",
   "id": "f4c185c8",
   "metadata": {},
   "source": [
    "Reassign the directorie's object (loading_dir_pre) to \"opt_paramters\" that will be feed to the i/p"
   ]
  },
  {
   "cell_type": "code",
   "execution_count": null,
   "id": "63fb31fa",
   "metadata": {},
   "outputs": [],
   "source": [
    "# --------------------------------------------------------------------------\n",
    "# re assign the loading_dir_pre object\n",
    "# --------------------------------------------------------------------------\n",
    "loading_dir_pre.assign_directories()\n",
    "opt_paramters.loading_dir_pre = loading_dir_pre\n"
   ]
  },
  {
   "cell_type": "markdown",
   "id": "fe70b625",
   "metadata": {},
   "source": [
    "## Feed NREM and REM \n",
    "Feed them separately then this is False,\n",
    "If we feed together then this will be True.\n",
    "\n",
    "From the analysis this doesn't show any difference. "
   ]
  },
  {
   "cell_type": "code",
   "execution_count": null,
   "id": "212dd7e8",
   "metadata": {},
   "outputs": [],
   "source": [
    "opt_paramters.sep = False"
   ]
  },
  {
   "cell_type": "markdown",
   "id": "c35d8c0a",
   "metadata": {},
   "source": [
    "## to run the single edf file"
   ]
  },
  {
   "cell_type": "code",
   "execution_count": null,
   "id": "0dc25062",
   "metadata": {},
   "outputs": [],
   "source": [
    "f='edf_name'\n",
    "opt_paramters.tag='_def'"
   ]
  }
 ],
 "metadata": {
  "kernelspec": {
   "display_name": "Python 3 (ipykernel)",
   "language": "python",
   "name": "python3"
  },
  "language_info": {
   "codemirror_mode": {
    "name": "ipython",
    "version": 3
   },
   "file_extension": ".py",
   "mimetype": "text/x-python",
   "name": "python",
   "nbconvert_exporter": "python",
   "pygments_lexer": "ipython3",
   "version": "3.9.7"
  }
 },
 "nbformat": 4,
 "nbformat_minor": 5
}
